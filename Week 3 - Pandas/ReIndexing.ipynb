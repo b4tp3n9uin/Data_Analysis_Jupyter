{
 "cells": [
  {
   "cell_type": "code",
   "execution_count": 2,
   "metadata": {},
   "outputs": [],
   "source": [
    "import numpy as np\n",
    "import pandas as pd\n",
    "\n",
    "from pandas import Series, DataFrame\n",
    "\n",
    "from numpy.random import randn"
   ]
  },
  {
   "cell_type": "code",
   "execution_count": 5,
   "metadata": {},
   "outputs": [
    {
     "data": {
      "text/plain": [
       "A    1\n",
       "B    2\n",
       "C    3\n",
       "D    4\n",
       "dtype: int64"
      ]
     },
     "execution_count": 5,
     "metadata": {},
     "output_type": "execute_result"
    }
   ],
   "source": [
    "ser = Series([1,2,3,4], index=['A','B','C','D'])\n",
    "\n",
    "ser"
   ]
  },
  {
   "cell_type": "code",
   "execution_count": 6,
   "metadata": {},
   "outputs": [
    {
     "data": {
      "text/plain": [
       "A    1.0\n",
       "B    2.0\n",
       "C    3.0\n",
       "D    4.0\n",
       "E    NaN\n",
       "F    NaN\n",
       "dtype: float64"
      ]
     },
     "execution_count": 6,
     "metadata": {},
     "output_type": "execute_result"
    }
   ],
   "source": [
    "ser2 = ser.reindex(['A','B','C','D','E','F'])\n",
    "\n",
    "ser2 #reindexing"
   ]
  },
  {
   "cell_type": "code",
   "execution_count": 7,
   "metadata": {},
   "outputs": [
    {
     "data": {
      "text/plain": [
       "A    1.0\n",
       "B    2.0\n",
       "C    3.0\n",
       "D    4.0\n",
       "E    NaN\n",
       "F    NaN\n",
       "G    0.0\n",
       "dtype: float64"
      ]
     },
     "execution_count": 7,
     "metadata": {},
     "output_type": "execute_result"
    }
   ],
   "source": [
    "ser2.reindex(['A','B','C','D','E','F','G'], fill_value=0) # reindexing with the fil_value. fills anything that dose't hold a value"
   ]
  },
  {
   "cell_type": "code",
   "execution_count": 8,
   "metadata": {},
   "outputs": [
    {
     "data": {
      "text/plain": [
       "0     Canada\n",
       "5        USA\n",
       "10    Mexico\n",
       "dtype: object"
      ]
     },
     "execution_count": 8,
     "metadata": {},
     "output_type": "execute_result"
    }
   ],
   "source": [
    "ser3 = Series(['Canada','USA','Mexico'], index=[0,5,10]) # passing values with different indexes.\n",
    "\n",
    "ser3"
   ]
  },
  {
   "cell_type": "code",
   "execution_count": 9,
   "metadata": {},
   "outputs": [
    {
     "data": {
      "text/plain": [
       "range(0, 15)"
      ]
     },
     "execution_count": 9,
     "metadata": {},
     "output_type": "execute_result"
    }
   ],
   "source": [
    "ranger = range(15) # create a range from 0 to 14\n",
    "ranger"
   ]
  },
  {
   "cell_type": "code",
   "execution_count": 14,
   "metadata": {},
   "outputs": [
    {
     "data": {
      "text/plain": [
       "0     Canada\n",
       "1     Canada\n",
       "2     Canada\n",
       "3     Canada\n",
       "4     Canada\n",
       "5        USA\n",
       "6        USA\n",
       "7        USA\n",
       "8        USA\n",
       "9        USA\n",
       "10    Mexico\n",
       "11    Mexico\n",
       "12    Mexico\n",
       "13    Mexico\n",
       "14    Mexico\n",
       "dtype: object"
      ]
     },
     "execution_count": 14,
     "metadata": {},
     "output_type": "execute_result"
    }
   ],
   "source": [
    "ser3.reindex(ranger, method='ffill') #when you forward fill, it will fill empty cells, until it hits a filled index."
   ]
  },
  {
   "cell_type": "code",
   "execution_count": 20,
   "metadata": {},
   "outputs": [
    {
     "data": {
      "text/html": [
       "<div>\n",
       "<style scoped>\n",
       "    .dataframe tbody tr th:only-of-type {\n",
       "        vertical-align: middle;\n",
       "    }\n",
       "\n",
       "    .dataframe tbody tr th {\n",
       "        vertical-align: top;\n",
       "    }\n",
       "\n",
       "    .dataframe thead th {\n",
       "        text-align: right;\n",
       "    }\n",
       "</style>\n",
       "<table border=\"1\" class=\"dataframe\">\n",
       "  <thead>\n",
       "    <tr style=\"text-align: right;\">\n",
       "      <th></th>\n",
       "      <th>1.</th>\n",
       "      <th>2.</th>\n",
       "      <th>3.</th>\n",
       "      <th>4.</th>\n",
       "      <th>5.</th>\n",
       "    </tr>\n",
       "  </thead>\n",
       "  <tbody>\n",
       "    <tr>\n",
       "      <th>A</th>\n",
       "      <td>-0.708285</td>\n",
       "      <td>-1.171162</td>\n",
       "      <td>0.046412</td>\n",
       "      <td>0.096015</td>\n",
       "      <td>-0.216640</td>\n",
       "    </tr>\n",
       "    <tr>\n",
       "      <th>B</th>\n",
       "      <td>0.045910</td>\n",
       "      <td>-2.203750</td>\n",
       "      <td>-0.032330</td>\n",
       "      <td>-0.255651</td>\n",
       "      <td>0.705649</td>\n",
       "    </tr>\n",
       "    <tr>\n",
       "      <th>D</th>\n",
       "      <td>0.916530</td>\n",
       "      <td>2.116668</td>\n",
       "      <td>-0.356063</td>\n",
       "      <td>0.264632</td>\n",
       "      <td>0.183377</td>\n",
       "    </tr>\n",
       "    <tr>\n",
       "      <th>E</th>\n",
       "      <td>-0.206301</td>\n",
       "      <td>-0.193759</td>\n",
       "      <td>-0.992259</td>\n",
       "      <td>0.806300</td>\n",
       "      <td>0.629007</td>\n",
       "    </tr>\n",
       "    <tr>\n",
       "      <th>F</th>\n",
       "      <td>-1.273612</td>\n",
       "      <td>2.372566</td>\n",
       "      <td>-0.696365</td>\n",
       "      <td>-1.082764</td>\n",
       "      <td>0.476079</td>\n",
       "    </tr>\n",
       "  </tbody>\n",
       "</table>\n",
       "</div>"
      ],
      "text/plain": [
       "         1.        2.        3.        4.        5.\n",
       "A -0.708285 -1.171162  0.046412  0.096015 -0.216640\n",
       "B  0.045910 -2.203750 -0.032330 -0.255651  0.705649\n",
       "D  0.916530  2.116668 -0.356063  0.264632  0.183377\n",
       "E -0.206301 -0.193759 -0.992259  0.806300  0.629007\n",
       "F -1.273612  2.372566 -0.696365 -1.082764  0.476079"
      ]
     },
     "execution_count": 20,
     "metadata": {},
     "output_type": "execute_result"
    }
   ],
   "source": [
    "dframe = DataFrame(randn(25).reshape((5,5)),index=['A','B','D','E','F'],columns=['1.', '2.', '3.', '4.', '5.'])\n",
    "\n",
    "dframe # making a deframe making it's shape 5x5, adding a random number from 0 to 24 in each cell."
   ]
  },
  {
   "cell_type": "code",
   "execution_count": 27,
   "metadata": {},
   "outputs": [
    {
     "data": {
      "text/html": [
       "<div>\n",
       "<style scoped>\n",
       "    .dataframe tbody tr th:only-of-type {\n",
       "        vertical-align: middle;\n",
       "    }\n",
       "\n",
       "    .dataframe tbody tr th {\n",
       "        vertical-align: top;\n",
       "    }\n",
       "\n",
       "    .dataframe thead th {\n",
       "        text-align: right;\n",
       "    }\n",
       "</style>\n",
       "<table border=\"1\" class=\"dataframe\">\n",
       "  <thead>\n",
       "    <tr style=\"text-align: right;\">\n",
       "      <th></th>\n",
       "      <th>1.</th>\n",
       "      <th>2.</th>\n",
       "      <th>3.</th>\n",
       "      <th>4.</th>\n",
       "      <th>5.</th>\n",
       "    </tr>\n",
       "  </thead>\n",
       "  <tbody>\n",
       "    <tr>\n",
       "      <th>A</th>\n",
       "      <td>-0.708285</td>\n",
       "      <td>-1.171162</td>\n",
       "      <td>0.046412</td>\n",
       "      <td>0.096015</td>\n",
       "      <td>-0.216640</td>\n",
       "    </tr>\n",
       "    <tr>\n",
       "      <th>B</th>\n",
       "      <td>0.045910</td>\n",
       "      <td>-2.203750</td>\n",
       "      <td>-0.032330</td>\n",
       "      <td>-0.255651</td>\n",
       "      <td>0.705649</td>\n",
       "    </tr>\n",
       "    <tr>\n",
       "      <th>C</th>\n",
       "      <td>NaN</td>\n",
       "      <td>NaN</td>\n",
       "      <td>NaN</td>\n",
       "      <td>NaN</td>\n",
       "      <td>NaN</td>\n",
       "    </tr>\n",
       "    <tr>\n",
       "      <th>D</th>\n",
       "      <td>0.916530</td>\n",
       "      <td>2.116668</td>\n",
       "      <td>-0.356063</td>\n",
       "      <td>0.264632</td>\n",
       "      <td>0.183377</td>\n",
       "    </tr>\n",
       "    <tr>\n",
       "      <th>F</th>\n",
       "      <td>-1.273612</td>\n",
       "      <td>2.372566</td>\n",
       "      <td>-0.696365</td>\n",
       "      <td>-1.082764</td>\n",
       "      <td>0.476079</td>\n",
       "    </tr>\n",
       "  </tbody>\n",
       "</table>\n",
       "</div>"
      ],
      "text/plain": [
       "         1.        2.        3.        4.        5.\n",
       "A -0.708285 -1.171162  0.046412  0.096015 -0.216640\n",
       "B  0.045910 -2.203750 -0.032330 -0.255651  0.705649\n",
       "C       NaN       NaN       NaN       NaN       NaN\n",
       "D  0.916530  2.116668 -0.356063  0.264632  0.183377\n",
       "F -1.273612  2.372566 -0.696365 -1.082764  0.476079"
      ]
     },
     "execution_count": 27,
     "metadata": {},
     "output_type": "execute_result"
    }
   ],
   "source": [
    "dframe2 = dframe.reindex(['A','B','C','D','F'])\n",
    "dframe2 # adding C to the index will result in all cells in the C row to be null"
   ]
  },
  {
   "cell_type": "code",
   "execution_count": 23,
   "metadata": {},
   "outputs": [],
   "source": [
    "new_columns = ['1.', '2.', '3.', '4.', '5.', '6.']"
   ]
  },
  {
   "cell_type": "code",
   "execution_count": 29,
   "metadata": {},
   "outputs": [
    {
     "data": {
      "text/html": [
       "<div>\n",
       "<style scoped>\n",
       "    .dataframe tbody tr th:only-of-type {\n",
       "        vertical-align: middle;\n",
       "    }\n",
       "\n",
       "    .dataframe tbody tr th {\n",
       "        vertical-align: top;\n",
       "    }\n",
       "\n",
       "    .dataframe thead th {\n",
       "        text-align: right;\n",
       "    }\n",
       "</style>\n",
       "<table border=\"1\" class=\"dataframe\">\n",
       "  <thead>\n",
       "    <tr style=\"text-align: right;\">\n",
       "      <th></th>\n",
       "      <th>1.</th>\n",
       "      <th>2.</th>\n",
       "      <th>3.</th>\n",
       "      <th>4.</th>\n",
       "      <th>5.</th>\n",
       "      <th>6.</th>\n",
       "    </tr>\n",
       "  </thead>\n",
       "  <tbody>\n",
       "    <tr>\n",
       "      <th>A</th>\n",
       "      <td>-0.708285</td>\n",
       "      <td>-1.171162</td>\n",
       "      <td>0.046412</td>\n",
       "      <td>0.096015</td>\n",
       "      <td>-0.216640</td>\n",
       "      <td>NaN</td>\n",
       "    </tr>\n",
       "    <tr>\n",
       "      <th>B</th>\n",
       "      <td>0.045910</td>\n",
       "      <td>-2.203750</td>\n",
       "      <td>-0.032330</td>\n",
       "      <td>-0.255651</td>\n",
       "      <td>0.705649</td>\n",
       "      <td>NaN</td>\n",
       "    </tr>\n",
       "    <tr>\n",
       "      <th>C</th>\n",
       "      <td>NaN</td>\n",
       "      <td>NaN</td>\n",
       "      <td>NaN</td>\n",
       "      <td>NaN</td>\n",
       "      <td>NaN</td>\n",
       "      <td>NaN</td>\n",
       "    </tr>\n",
       "    <tr>\n",
       "      <th>D</th>\n",
       "      <td>0.916530</td>\n",
       "      <td>2.116668</td>\n",
       "      <td>-0.356063</td>\n",
       "      <td>0.264632</td>\n",
       "      <td>0.183377</td>\n",
       "      <td>NaN</td>\n",
       "    </tr>\n",
       "    <tr>\n",
       "      <th>F</th>\n",
       "      <td>-1.273612</td>\n",
       "      <td>2.372566</td>\n",
       "      <td>-0.696365</td>\n",
       "      <td>-1.082764</td>\n",
       "      <td>0.476079</td>\n",
       "      <td>NaN</td>\n",
       "    </tr>\n",
       "  </tbody>\n",
       "</table>\n",
       "</div>"
      ],
      "text/plain": [
       "         1.        2.        3.        4.        5.  6.\n",
       "A -0.708285 -1.171162  0.046412  0.096015 -0.216640 NaN\n",
       "B  0.045910 -2.203750 -0.032330 -0.255651  0.705649 NaN\n",
       "C       NaN       NaN       NaN       NaN       NaN NaN\n",
       "D  0.916530  2.116668 -0.356063  0.264632  0.183377 NaN\n",
       "F -1.273612  2.372566 -0.696365 -1.082764  0.476079 NaN"
      ]
     },
     "execution_count": 29,
     "metadata": {},
     "output_type": "execute_result"
    }
   ],
   "source": [
    "dframe2.reindex(columns=new_columns) # adding a new column"
   ]
  },
  {
   "cell_type": "code",
   "execution_count": 30,
   "metadata": {},
   "outputs": [
    {
     "data": {
      "text/html": [
       "<div>\n",
       "<style scoped>\n",
       "    .dataframe tbody tr th:only-of-type {\n",
       "        vertical-align: middle;\n",
       "    }\n",
       "\n",
       "    .dataframe tbody tr th {\n",
       "        vertical-align: top;\n",
       "    }\n",
       "\n",
       "    .dataframe thead th {\n",
       "        text-align: right;\n",
       "    }\n",
       "</style>\n",
       "<table border=\"1\" class=\"dataframe\">\n",
       "  <thead>\n",
       "    <tr style=\"text-align: right;\">\n",
       "      <th></th>\n",
       "      <th>1.</th>\n",
       "      <th>2.</th>\n",
       "      <th>3.</th>\n",
       "      <th>4.</th>\n",
       "      <th>5.</th>\n",
       "    </tr>\n",
       "  </thead>\n",
       "  <tbody>\n",
       "    <tr>\n",
       "      <th>A</th>\n",
       "      <td>-0.708285</td>\n",
       "      <td>-1.171162</td>\n",
       "      <td>0.046412</td>\n",
       "      <td>0.096015</td>\n",
       "      <td>-0.216640</td>\n",
       "    </tr>\n",
       "    <tr>\n",
       "      <th>B</th>\n",
       "      <td>0.045910</td>\n",
       "      <td>-2.203750</td>\n",
       "      <td>-0.032330</td>\n",
       "      <td>-0.255651</td>\n",
       "      <td>0.705649</td>\n",
       "    </tr>\n",
       "    <tr>\n",
       "      <th>D</th>\n",
       "      <td>0.916530</td>\n",
       "      <td>2.116668</td>\n",
       "      <td>-0.356063</td>\n",
       "      <td>0.264632</td>\n",
       "      <td>0.183377</td>\n",
       "    </tr>\n",
       "    <tr>\n",
       "      <th>E</th>\n",
       "      <td>-0.206301</td>\n",
       "      <td>-0.193759</td>\n",
       "      <td>-0.992259</td>\n",
       "      <td>0.806300</td>\n",
       "      <td>0.629007</td>\n",
       "    </tr>\n",
       "    <tr>\n",
       "      <th>F</th>\n",
       "      <td>-1.273612</td>\n",
       "      <td>2.372566</td>\n",
       "      <td>-0.696365</td>\n",
       "      <td>-1.082764</td>\n",
       "      <td>0.476079</td>\n",
       "    </tr>\n",
       "  </tbody>\n",
       "</table>\n",
       "</div>"
      ],
      "text/plain": [
       "         1.        2.        3.        4.        5.\n",
       "A -0.708285 -1.171162  0.046412  0.096015 -0.216640\n",
       "B  0.045910 -2.203750 -0.032330 -0.255651  0.705649\n",
       "D  0.916530  2.116668 -0.356063  0.264632  0.183377\n",
       "E -0.206301 -0.193759 -0.992259  0.806300  0.629007\n",
       "F -1.273612  2.372566 -0.696365 -1.082764  0.476079"
      ]
     },
     "execution_count": 30,
     "metadata": {},
     "output_type": "execute_result"
    }
   ],
   "source": [
    "dframe"
   ]
  }
 ],
 "metadata": {
  "kernelspec": {
   "display_name": "Python 3",
   "language": "python",
   "name": "python3"
  },
  "language_info": {
   "codemirror_mode": {
    "name": "ipython",
    "version": 3
   },
   "file_extension": ".py",
   "mimetype": "text/x-python",
   "name": "python",
   "nbconvert_exporter": "python",
   "pygments_lexer": "ipython3",
   "version": "3.8.5"
  }
 },
 "nbformat": 4,
 "nbformat_minor": 4
}
